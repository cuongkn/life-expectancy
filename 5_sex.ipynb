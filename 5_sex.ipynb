{
 "cells": [
  {
   "cell_type": "code",
   "execution_count": 8,
   "id": "576fede8-0104-4dde-98e8-ebca8defa505",
   "metadata": {},
   "outputs": [],
   "source": [
    "import pandas as pd\n",
    "import numpy as np\n",
    "import ipywidgets\n",
    "import matplotlib.pyplot as plt\n",
    "import plotly.express as px\n",
    "from IPython.display import display"
   ]
  },
  {
   "cell_type": "code",
   "execution_count": 9,
   "id": "4649506b-dc9b-4e2d-97d8-efa079fa6e99",
   "metadata": {},
   "outputs": [],
   "source": [
    "df_le_sex = pd.read_csv('full-data/life_expectancy_by_sex.csv')"
   ]
  },
  {
   "cell_type": "code",
   "execution_count": 10,
   "id": "dc0177df-f15a-43bc-a674-2ad6d410b89f",
   "metadata": {},
   "outputs": [],
   "source": [
    "all_countries = df_le_sex.loc[df_le_sex['Entity'] != 'World', ['Entity']]['Entity'].unique()\n",
    "all_countries = [str(i) for i in all_countries]"
   ]
  },
  {
   "cell_type": "code",
   "execution_count": 11,
   "id": "f73447ae-9c77-4600-9d6b-95892f6a6446",
   "metadata": {},
   "outputs": [],
   "source": [
    "def show_line_chart_gender(country):\n",
    "    fig = plt.figure(figsize=(12, 5))\n",
    "    ax1 = plt.subplot(1,1,1)\n",
    "    x_labels_official = [1950, 1960, 1970, 1980, 1990, 2000, 2010, 2021]\n",
    "    y_labels = [30, 40, 50, 60, 70, 80]\n",
    "    colors = {'men':'blue', 'women':'red'}\n",
    "    tmp = df_le_sex.loc[df_le_sex['Entity'] == country, ['Life_exp_female', 'Life_exp_male', 'Year']]\n",
    "    x_male = tmp.Life_exp_male.values\n",
    "    x_female = tmp.Life_exp_female.values\n",
    "    y = tmp.Year.values\n",
    "    ax1.plot(y, x_male, '.-', color=colors['men'], label='nam')\n",
    "    ax1.plot(y, x_female, '.-', color=colors['women'], label='nữ')\n",
    "    # set up plot\n",
    "    ax1.set_title(\"Life expectancy so sánh giữa nam và nữ tại \" + country)\n",
    "    ax1.set_xticks(x_labels_official)\n",
    "    ax1.set_yticks(y_labels)\n",
    "    ax1.spines['top'].set_visible(False)\n",
    "    ax1.spines['right'].set_visible(False)\n",
    "    y_ticks = ax1.get_yticks()\n",
    "    for y_tick in y_ticks:\n",
    "        ax1.axhline(y=y_tick, color='#E7FCFB', linestyle='--', zorder=-1)\n",
    "    plt.xlabel(\"Năm\")\n",
    "    plt.ylabel(\"Life expectancy\")\n",
    "    plt.legend(loc = \"upper left\")\n",
    "    plt.show()"
   ]
  },
  {
   "cell_type": "code",
   "execution_count": 12,
   "id": "5fd8e265-4749-48f5-8411-4a33eff723cf",
   "metadata": {},
   "outputs": [
    {
     "data": {
      "application/vnd.jupyter.widget-view+json": {
       "model_id": "c54fe304121747ba99c0c5bcdd0abace",
       "version_major": 2,
       "version_minor": 0
      },
      "text/plain": [
       "interactive(children=(Combobox(value='World', description='Country:', ensure_option=True, options=('Afghanista…"
      ]
     },
     "metadata": {},
     "output_type": "display_data"
    },
    {
     "data": {
      "text/plain": [
       "<function __main__.show_line_chart_gender(country)>"
      ]
     },
     "metadata": {},
     "output_type": "display_data"
    }
   ],
   "source": [
    "# Create the animation widget\n",
    "animation4 = ipywidgets.interact(show_line_chart_gender, \n",
    "                                 country=ipywidgets.Combobox(value='World', options=all_countries, description='Country:', ensure_option=True,disabled=False))\n",
    "# Display the animation widget\n",
    "display(animation4)"
   ]
  },
  {
   "cell_type": "code",
   "execution_count": 13,
   "id": "2e0431db-d574-4bcc-8f64-d76f675421da",
   "metadata": {},
   "outputs": [],
   "source": [
    "def normalize(numbers, min_val, max_val, range):\n",
    "    range_val = max_val - min_val\n",
    "    normalized = []\n",
    "    for num in numbers:\n",
    "        normalized_val = (num - min_val) / range_val\n",
    "        normalized_val = normalized_val * (range[1] - range[0]) + range[0] # normalize to range\n",
    "        normalized.append(normalized_val)\n",
    "    return normalized"
   ]
  },
  {
   "cell_type": "code",
   "execution_count": 14,
   "id": "260b6117-63f7-42ce-a69c-e28acb1c0bfa",
   "metadata": {},
   "outputs": [],
   "source": [
    "all_year_2 = sorted(df_le_sex.Year.unique())\n",
    "all_year_2 = [str(i) for i in all_year_2]\n",
    "all_text_2 = ['All', 'Africa', 'Americas', 'Asia', 'Europe', 'Oceania']\n",
    "all_countries = df_le_sex.loc[df_le_sex['Entity'] != 'World', ['Entity']]['Entity'].unique()\n",
    "all_countries = [str(i) for i in all_countries]"
   ]
  },
  {
   "cell_type": "code",
   "execution_count": 18,
   "id": "16cedc2c-3951-4ce0-abae-5abc2f3ae34c",
   "metadata": {},
   "outputs": [],
   "source": [
    "def show_scatter_plot_gender(year, text):\n",
    "    print('Each dot is a country. And the size of the dot refer to the population in a country')\n",
    "    colors = {'Africa':'#D1AFE4', 'Americas':'#2587F0', 'Asia':'#21DA61', 'Europe':'#E9C213', 'Oceania':'#F791C1'}\n",
    "    groups = ['Africa', 'Americas', 'Asia', 'Europe', 'Oceania']\n",
    "    translate = {'World': 'Thế giới', 'Oceania': 'Châu Úc', 'Europe': 'Châu Âu', 'Americas': 'Châu Mỹ', 'Asia': 'Châu Á', 'Africa': 'Châu Phi'}\n",
    "    year = int(year)\n",
    "    small_grouped_df = df_le_sex.groupby('Entity')\n",
    "    fig = plt.figure(figsize=(10, 10))\n",
    "    ax1 = plt.subplot(1,1,1)\n",
    "    x_arr, y_arr, size, continents = [], [], [], []\n",
    "    if text == 'All':\n",
    "        valid_con = ['Africa', 'Americas', 'Asia', 'Europe', 'Oceania']\n",
    "    else:\n",
    "        valid_con = [text]\n",
    "    for key, df_local in small_grouped_df:\n",
    "        tmp = df_local.loc[df_local['Year'] == year, ['Life_exp_male', 'Life_exp_female', 'Population', 'Entity', 'Continent']]\n",
    "        if len(tmp) == 0:\n",
    "            continue\n",
    "        x = tmp.Life_exp_male.values[0]\n",
    "        y = tmp.Life_exp_female.values[0]\n",
    "        p = tmp.Population.values[0]\n",
    "        con = tmp.Continent.values[0]\n",
    "        #if con not in groups:\n",
    "            #continue\n",
    "        x_arr.append(x)\n",
    "        y_arr.append(y)\n",
    "        size.append(p)\n",
    "        continents.append(con)\n",
    "    # normalize size\n",
    "    norm_size = normalize(size, min(size), max(size), [100, 2000])\n",
    "    # set up scatter plot\n",
    "    for g in groups:\n",
    "        indexes = [i for i in range(len(continents)) if continents[i] == g]\n",
    "        tmp_x = []\n",
    "        tmp_y = []\n",
    "        tmp_s = []\n",
    "        for i in indexes:\n",
    "            tmp_x.append(x_arr[i])\n",
    "            tmp_y.append(y_arr[i])\n",
    "            tmp_s.append(norm_size[i])\n",
    "        if g in valid_con:\n",
    "            scatter = ax1.scatter(x=tmp_x, y=tmp_y, s=tmp_s, c=colors[g], alpha=0.7, edgecolors='none', label=translate[g])\n",
    "        else:\n",
    "            scatter = ax1.scatter(x=tmp_x, y=tmp_y, s=tmp_s, c='#EEEEEE', alpha=0.7, edgecolors='none', zorder=-1)\n",
    "    lims = [\n",
    "        np.min([ax1.get_xlim(), ax1.get_ylim()]),  # min of both axes\n",
    "        np.max([ax1.get_xlim(), ax1.get_ylim()]),  # max of both axes\n",
    "    ]\n",
    "\n",
    "    # now plot both limits against eachother\n",
    "    ax1.plot(lims, lims, linestyle='--', color='gray', alpha=0.6, zorder=-1)\n",
    "    ax1.set_title(\"Tuổi thọ dự kiến của phụ nữ và đàn ông trong năm \" + str(year))\n",
    "    lgnd = ax1.legend(loc=\"lower right\", numpoints=1, title='Châu lục', fontsize=10)\n",
    "    \n",
    "    #change the marker size manually for both lines\n",
    "    if text == 'All':\n",
    "        lgnd.legendHandles[0]._sizes = [90]\n",
    "        lgnd.legendHandles[1]._sizes = [90]\n",
    "        lgnd.legendHandles[2]._sizes = [90]\n",
    "        lgnd.legendHandles[3]._sizes = [90]\n",
    "        lgnd.legendHandles[4]._sizes = [90]\n",
    "    else:\n",
    "        lgnd.legendHandles[0]._sizes = [90]\n",
    "    h, l = plt.gca().get_legend_handles_labels()\n",
    "    plt.xlabel(\"Tuổi thọ dự kiến của đàn ông (đv: năm)\")\n",
    "    plt.ylabel(\"Tuổi thọ dự kiến của phụ nữ (đv: năm)\")\n",
    "    plt.show()"
   ]
  },
  {
   "cell_type": "code",
   "execution_count": 19,
   "id": "8f459769-8534-4278-92c1-de6ebca94b34",
   "metadata": {},
   "outputs": [
    {
     "data": {
      "application/vnd.jupyter.widget-view+json": {
       "model_id": "52e8e91fc6e54f22818838198c2775db",
       "version_major": 2,
       "version_minor": 0
      },
      "text/plain": [
       "interactive(children=(Combobox(value='2021', description='Year:', ensure_option=True, options=('1950', '1951',…"
      ]
     },
     "metadata": {},
     "output_type": "display_data"
    },
    {
     "data": {
      "text/plain": [
       "<function __main__.show_scatter_plot_gender(year, text)>"
      ]
     },
     "metadata": {},
     "output_type": "display_data"
    }
   ],
   "source": [
    "# Create the animation widget\n",
    "animation3 = ipywidgets.interact(show_scatter_plot_gender, \n",
    "                                 year=ipywidgets.Combobox(value='2021', options=all_year_2, description='Year:', ensure_option=True,disabled=False),\n",
    "                                 text=ipywidgets.Combobox(value='All', options=all_text_2, description='Mode:', ensure_option=True,disabled=False))\n",
    "# Display the animation widget\n",
    "display(animation3)"
   ]
  },
  {
   "cell_type": "code",
   "execution_count": 17,
   "id": "b36bb9f5-881b-4f26-a0a0-b3e0194aa0a1",
   "metadata": {},
   "outputs": [
    {
     "data": {
      "application/vnd.jupyter.widget-view+json": {
       "model_id": "a0cf40174e7147409fe7f957ae4cf7e7",
       "version_major": 2,
       "version_minor": 0
      },
      "text/plain": [
       "interactive(children=(Combobox(value='Vietnam', description='Country:', ensure_option=True, options=('Afghanis…"
      ]
     },
     "metadata": {},
     "output_type": "display_data"
    },
    {
     "data": {
      "text/plain": [
       "<function __main__.show_line_chart_gender(country)>"
      ]
     },
     "metadata": {},
     "output_type": "display_data"
    }
   ],
   "source": [
    "# Create the animation widget\n",
    "animation5 = ipywidgets.interact(show_line_chart_gender, \n",
    "                                 country=ipywidgets.Combobox(value='Vietnam', options=all_countries, description='Country:', ensure_option=True,disabled=False))\n",
    "# Display the animation widget\n",
    "display(animation5)"
   ]
  },
  {
   "cell_type": "code",
   "execution_count": null,
   "id": "38bcdfb2-fd0e-43a6-b764-13f85e23b3de",
   "metadata": {},
   "outputs": [],
   "source": []
  }
 ],
 "metadata": {
  "kernelspec": {
   "display_name": "conda_env",
   "language": "python",
   "name": "conda_env"
  },
  "language_info": {
   "codemirror_mode": {
    "name": "ipython",
    "version": 3
   },
   "file_extension": ".py",
   "mimetype": "text/x-python",
   "name": "python",
   "nbconvert_exporter": "python",
   "pygments_lexer": "ipython3",
   "version": "3.10.2"
  }
 },
 "nbformat": 4,
 "nbformat_minor": 5
}
