{
 "cells": [
  {
   "cell_type": "code",
   "execution_count": 1,
   "id": "3bb85ed2-5d2b-47ea-8c29-766975a7d570",
   "metadata": {},
   "outputs": [],
   "source": [
    "import pandas as pd\n",
    "import numpy as np\n",
    "import ipywidgets\n",
    "import matplotlib.pyplot as plt\n",
    "import plotly.express as px\n",
    "from IPython.display import display"
   ]
  },
  {
   "cell_type": "code",
   "execution_count": 2,
   "id": "1efda6d4-ca86-4aa4-911f-e41f914f1460",
   "metadata": {},
   "outputs": [],
   "source": [
    "df_le_gdp = pd.read_csv('full-data/life_expectancy_and_gdp.csv')\n",
    "df_le_che = pd.read_csv('full-data/life_expectancy_and_health_expenditure.csv')"
   ]
  },
  {
   "cell_type": "code",
   "execution_count": 3,
   "id": "e58956e7-2143-4bdc-8d26-bec59a681fa4",
   "metadata": {},
   "outputs": [],
   "source": [
    "def normalize(numbers, min_val, max_val, range):\n",
    "    range_val = max_val - min_val\n",
    "    normalized = []\n",
    "    for num in numbers:\n",
    "        normalized_val = (num - min_val) / range_val\n",
    "        normalized_val = normalized_val * (range[1] - range[0]) + range[0] # normalize to range\n",
    "        normalized.append(normalized_val)\n",
    "    return normalized"
   ]
  },
  {
   "cell_type": "code",
   "execution_count": 4,
   "id": "85956dd3-c9d2-4499-812c-28b06fa16f2c",
   "metadata": {},
   "outputs": [],
   "source": [
    "all_year_5 = sorted(df_le_gdp.Year.unique())\n",
    "all_year_5 = [str(i) for i in all_year_5]\n",
    "all_text_5 = ['All', 'Africa', 'Americas', 'Asia', 'Europe', 'Oceania']\n",
    "all_countries_5 = df_le_gdp.loc[df_le_gdp['Entity'] != 'World', ['Entity']]['Entity'].unique()\n",
    "all_countries_5 = [str(i) for i in all_countries_5]\n",
    "\n",
    "def show_scatter_plot_gdp(year, text):\n",
    "    print('Each dot is a country. And the size of the dot refer to the population in a country')\n",
    "    colors = {'Africa':'#D1AFE4', 'Americas':'#2587F0', 'Asia':'#21DA61', 'Europe':'#E9C213', 'Oceania':'#F791C1'}\n",
    "    groups = ['Africa', 'Americas', 'Asia', 'Europe', 'Oceania']\n",
    "    translate = {'World': 'Thế giới', 'Oceania': 'Châu Úc', 'Europe': 'Châu Âu', 'Americas': 'Châu Mỹ', 'Asia': 'Châu Á', 'Africa': 'Châu Phi'}\n",
    "    year = int(year)\n",
    "    small_grouped_df = df_le_gdp.groupby('Entity')\n",
    "    fig = plt.figure(figsize=(10, 6))\n",
    "    ax1 = plt.subplot(1,1,1)\n",
    "    x_arr, y_arr, size, continents = [], [], [], []\n",
    "    y_labels = [30, 40, 50, 60, 70, 80, 90]\n",
    "    if text == 'All':\n",
    "        valid_con = ['Africa', 'Americas', 'Asia', 'Europe', 'Oceania']\n",
    "    else:\n",
    "        valid_con = [text]\n",
    "    for key, df_local in small_grouped_df:\n",
    "        tmp = df_local.loc[df_local['Year'] == year, ['Life_exp', 'GDP_per_capita', 'Population', 'Entity', 'Continent']]\n",
    "        if len(tmp) == 0:\n",
    "            continue\n",
    "        x = tmp.GDP_per_capita.values[0]\n",
    "        y = tmp.Life_exp.values[0]\n",
    "        p = tmp.Population.values[0]\n",
    "        con = tmp.Continent.values[0]\n",
    "        #if con not in groups:\n",
    "            #continue\n",
    "        x_arr.append(x)\n",
    "        y_arr.append(y)\n",
    "        size.append(p)\n",
    "        continents.append(con)\n",
    "    # normalize size\n",
    "    norm_size = normalize(size, min(size), max(size), [100, 2000])\n",
    "    # set up scatter plot\n",
    "    for g in groups:\n",
    "        indexes = [i for i in range(len(continents)) if continents[i] == g]\n",
    "        tmp_x = []\n",
    "        tmp_y = []\n",
    "        tmp_s = []\n",
    "        for i in indexes:\n",
    "            tmp_x.append(x_arr[i])\n",
    "            tmp_y.append(y_arr[i])\n",
    "            tmp_s.append(norm_size[i])\n",
    "        if g in valid_con:\n",
    "            scatter = ax1.scatter(x=tmp_x, y=tmp_y, s=tmp_s, c=colors[g], alpha=0.7, edgecolors='none', label=translate[g])\n",
    "        else:\n",
    "            scatter = ax1.scatter(x=tmp_x, y=tmp_y, s=tmp_s, c='#EEEEEE', alpha=0.7, edgecolors='none', zorder=-1)\n",
    "    \n",
    "\n",
    "    # now plot both limits against eachother\n",
    "    ax1.set_title(\"Tuổi thọ dự kiến và thu nhập bình quân đầu người (GDP) trong năm \" + str(year))\n",
    "    lgnd = ax1.legend(loc=\"lower right\", numpoints=1, title='Châu lục', fontsize=10)\n",
    "    ax1.set_yticks(y_labels)\n",
    "    #change the marker size manually for both lines\n",
    "    if text == 'All':\n",
    "        lgnd.legendHandles[0]._sizes = [90]\n",
    "        lgnd.legendHandles[1]._sizes = [90]\n",
    "        lgnd.legendHandles[2]._sizes = [90]\n",
    "        lgnd.legendHandles[3]._sizes = [90]\n",
    "        lgnd.legendHandles[4]._sizes = [90]\n",
    "    else:\n",
    "        lgnd.legendHandles[0]._sizes = [90]\n",
    "    h, l = plt.gca().get_legend_handles_labels()\n",
    "    plt.xscale(\"log\") \n",
    "    plt.xlabel(\"Thu nhập bình quân đầu người GDP (đv: Đô la Mỹ)\")\n",
    "    plt.ylabel(\"Tuổi thọ dự kiến (đv: năm)\")\n",
    "    plt.show()"
   ]
  },
  {
   "cell_type": "code",
   "execution_count": 5,
   "id": "936abc70-bc2d-46d9-b593-24c0e2fa3a62",
   "metadata": {},
   "outputs": [
    {
     "data": {
      "application/vnd.jupyter.widget-view+json": {
       "model_id": "6a8dde02d0034f7190d87c9b4b0c4eba",
       "version_major": 2,
       "version_minor": 0
      },
      "text/plain": [
       "interactive(children=(Combobox(value='2018', description='Year:', ensure_option=True, options=('1950', '1951',…"
      ]
     },
     "metadata": {},
     "output_type": "display_data"
    },
    {
     "data": {
      "text/plain": [
       "<function __main__.show_scatter_plot_gdp(year, text)>"
      ]
     },
     "metadata": {},
     "output_type": "display_data"
    }
   ],
   "source": [
    "# Create the animation widget\n",
    "animation7 = ipywidgets.interact(show_scatter_plot_gdp, \n",
    "                                 year=ipywidgets.Combobox(value='2018', options=all_year_5, description='Year:', ensure_option=True,disabled=False),\n",
    "                                 text=ipywidgets.Combobox(value='All', options=all_text_5, description='Mode:', ensure_option=True,disabled=False))\n",
    "# Display the animation widget\n",
    "display(animation7)"
   ]
  },
  {
   "cell_type": "code",
   "execution_count": 6,
   "id": "adba22b3-7c4e-417b-9843-c98a71ba50c3",
   "metadata": {},
   "outputs": [],
   "source": [
    "grps = df_le_che.groupby('Entity')\n",
    "d = {}\n",
    "for key, df_local in grps:\n",
    "    years = df_local['Year'].tolist()\n",
    "    che = df_local['CHE_per_capita(in US$)'].tolist()\n",
    "    life = df_local['Life_exp'].tolist()\n",
    "    continent = df_local['Continent'].tolist()[0]\n",
    "    a, b = 10000, -1\n",
    "    for i in years:\n",
    "        if (str(che[i - 2000]) != 'nan'):\n",
    "            a = min(a, i)\n",
    "            b = max(b, i)\n",
    "    d[key] = {\n",
    "        'y': years,\n",
    "        'c': che,\n",
    "        'l': life,\n",
    "        'con': continent,\n",
    "        'min_year_data':a,\n",
    "        'max_year_data':b\n",
    "    }\n",
    "all_text_4 = ['All', 'Africa', 'Americas', 'Asia', 'Europe', 'Oceania'] + list(df_le_che.Entity.unique())"
   ]
  },
  {
   "cell_type": "code",
   "execution_count": 7,
   "id": "7558c891-d029-4bde-a62a-83fa5007ddcc",
   "metadata": {},
   "outputs": [],
   "source": [
    "def show_arrow_chart_che(year_range, text):\n",
    "    # x_axis: che    y_axis: life_exp\n",
    "    # find x_start and y_start for each country\n",
    "    translate = {'World': 'Thế giới', 'Oceania': 'Châu Úc', 'Europe': 'Châu Âu', 'Americas': 'Châu Mỹ', 'Asia': 'Châu Á', 'Africa': 'Châu Phi'}\n",
    "    colors = {'Africa':'#D1AFE4', 'Americas':'#2587F0', 'Asia':'#21DA61', 'Europe':'#E9C213', 'Oceania':'#F791C1'}\n",
    "    fig = plt.figure(figsize=(12, 6))\n",
    "    ax1 = plt.subplot(1,1,1)\n",
    "    groups = df_le_che.groupby('Continent')\n",
    "    if text == 'All':\n",
    "        valid_continents = ['Africa', 'Americas', 'Asia', 'Europe', 'Oceania']\n",
    "        valid_country = ['No']\n",
    "    elif text in ['Africa', 'Americas', 'Asia', 'Europe', 'Oceania']:\n",
    "        valid_continents = [text]\n",
    "        valid_country = ['No']\n",
    "    else:\n",
    "        valid_continents = [d[text]['con']]\n",
    "        valid_country = [text]\n",
    "    for key, df_local in groups:\n",
    "        #if key not in valid_continents:\n",
    "            #continue\n",
    "        x_start, y_start = [],[]\n",
    "        x_end, y_end = [],[]\n",
    "        list_of_countries = df_local['Entity'].tolist()\n",
    "        for k in list_of_countries:\n",
    "            if valid_country[0] != 'No' and k != valid_country[0]:\n",
    "                continue\n",
    "            ind_a = max(d[k]['min_year_data'], year_range[0])\n",
    "            ind_b = min(d[k]['max_year_data'], year_range[1])\n",
    "            x_start.append(d[k]['c'][ind_a-2000])\n",
    "            y_start.append(d[k]['l'][ind_a-2000])\n",
    "            x_end.append(d[k]['c'][ind_b-2000])\n",
    "            y_end.append(d[k]['l'][ind_b-2000])\n",
    "        if valid_country[0] != 'No':\n",
    "                ax1.scatter(x_start, y_start, s=10, c=colors[key], alpha=0.7, edgecolors='none', label=valid_country[0])\n",
    "        else:\n",
    "            if key in valid_continents:\n",
    "                ax1.scatter(x_start, y_start, s=10, c=colors[key], alpha=0.7, edgecolors='none', label=translate[key])\n",
    "            else:\n",
    "                ax1.scatter(x_start, y_start, s=10, c='#EEEEEE', alpha=0.7, edgecolors='none', zorder=-1)\n",
    "        ax1.scatter(x_end, y_end, s=0.0001, c='white', alpha=0.01, zorder=-1)\n",
    "        if key in valid_continents :\n",
    "            arrowprops = dict(color=colors[key], arrowstyle='->', linewidth=0.5)\n",
    "            for i in range(len(x_start)):\n",
    "                if x_start[i] != x_end[i] and y_start[i] != y_end[i]:\n",
    "                    ax1.annotate('', xytext=(x_start[i], y_start[i]), xy=(x_end[i], y_end[i]), arrowprops=arrowprops)\n",
    "        else:\n",
    "            arrowprops = dict(color='#EEEEEE', arrowstyle='->', linewidth=0.5)\n",
    "            for i in range(len(x_start)):\n",
    "                if x_start[i] != x_end[i] and y_start[i] != y_end[i]:\n",
    "                    ax1.annotate('', xytext=(x_start[i], y_start[i]), xy=(x_end[i], y_end[i]), arrowprops=arrowprops, zorder=-1)\n",
    "            \n",
    "    ax1.set_title(\"Tuổi thọ dự kiến và chi phí chăm sóc sức khỏe, \" +  str(year_range[0]) + ' vs ' + str(year_range[1]))\n",
    "    if valid_country[0] == 'No':\n",
    "        lgnd = ax1.legend(loc=\"lower right\", numpoints=1, title='Châu lục', fontsize=10)\n",
    "    else:\n",
    "        lgnd = ax1.legend(loc=\"lower right\", numpoints=1, title='Country', fontsize=10)\n",
    "    #change the marker size manually for both lines\n",
    "    if text == 'All':\n",
    "        lgnd.legendHandles[0]._sizes = [90]\n",
    "        lgnd.legendHandles[1]._sizes = [90]\n",
    "        lgnd.legendHandles[2]._sizes = [90]\n",
    "        lgnd.legendHandles[3]._sizes = [90]\n",
    "        lgnd.legendHandles[4]._sizes = [90]\n",
    "    else:\n",
    "        lgnd.legendHandles[0]._sizes = [90]\n",
    "    print('Log scale at x-axis')\n",
    "    plt.xscale(\"log\") \n",
    "    plt.xlabel(\"Chi phí chăm sóc sức khỏe trên đầu người (đv: Đô la Mỹ)\")\n",
    "    plt.ylabel(\"Tuổi thọ dự kiến(đv: năm)\")\n",
    "    plt.show()"
   ]
  },
  {
   "cell_type": "code",
   "execution_count": 8,
   "id": "81ab1def-d1a9-4919-9ae5-a74340d61e59",
   "metadata": {},
   "outputs": [
    {
     "data": {
      "application/vnd.jupyter.widget-view+json": {
       "model_id": "bb22f49210b34007b004e384e0d216b6",
       "version_major": 2,
       "version_minor": 0
      },
      "text/plain": [
       "interactive(children=(IntRangeSlider(value=(2000, 2019), description='Year:', max=2019, min=2000), Combobox(va…"
      ]
     },
     "metadata": {},
     "output_type": "display_data"
    },
    {
     "data": {
      "text/plain": [
       "<function __main__.show_arrow_chart_che(year_range, text)>"
      ]
     },
     "metadata": {},
     "output_type": "display_data"
    }
   ],
   "source": [
    "# Create the animation widget\n",
    "animation6 = ipywidgets.interact(show_arrow_chart_che, \n",
    "                                 year_range=ipywidgets.IntRangeSlider(value=[2000, 2019],min=2000,max=2019,step=1, description='Year:', disabled=False,orientation='horizontal', continuous_update=True), \n",
    "                                 text=ipywidgets.Combobox(value='All', options=all_text_4, description='Choose:', ensure_option=True,disabled=False))\n",
    "# Display the animation widget\n",
    "display(animation6)"
   ]
  }
 ],
 "metadata": {
  "kernelspec": {
   "display_name": "conda_env",
   "language": "python",
   "name": "conda_env"
  },
  "language_info": {
   "codemirror_mode": {
    "name": "ipython",
    "version": 3
   },
   "file_extension": ".py",
   "mimetype": "text/x-python",
   "name": "python",
   "nbconvert_exporter": "python",
   "pygments_lexer": "ipython3",
   "version": "3.10.2"
  }
 },
 "nbformat": 4,
 "nbformat_minor": 5
}
