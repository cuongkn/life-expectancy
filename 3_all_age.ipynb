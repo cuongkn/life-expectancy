{
 "cells": [
  {
   "cell_type": "code",
   "execution_count": 1,
   "id": "7bff0869-4202-4655-84c3-4732a7823cc9",
   "metadata": {},
   "outputs": [],
   "source": [
    "import pandas as pd\n",
    "import numpy as np\n",
    "import ipywidgets\n",
    "import matplotlib.pyplot as plt\n",
    "import plotly.express as px\n",
    "from IPython.display import display"
   ]
  },
  {
   "cell_type": "code",
   "execution_count": 2,
   "id": "4182b681-b3c5-44b6-b7e6-d3d1c9b9fcfd",
   "metadata": {},
   "outputs": [],
   "source": [
    "df_le_age = pd.read_csv('full-data/life_expectancy_by_age.csv')\n",
    "df_death = pd.read_csv('full-data/number_of_deaths_by_age_group.csv')"
   ]
  },
  {
   "cell_type": "code",
   "execution_count": 3,
   "id": "7c2d83ad-5adc-4428-a9f5-8d88cb62c383",
   "metadata": {},
   "outputs": [],
   "source": [
    "all_year_3 = sorted(df_le_age.Year.unique(), reverse=False)\n",
    "all_text_3 = df_le_age.Entity.unique()\n",
    "all_text_3 = [str(i) for i in all_text_3]"
   ]
  },
  {
   "cell_type": "code",
   "execution_count": 4,
   "id": "4c8c3122-588f-4f46-b1f7-d2564475054a",
   "metadata": {},
   "outputs": [],
   "source": [
    "# line chart\n",
    "def show_line_chart_age(year, country):\n",
    "    fig = plt.figure(figsize=(12, 5))\n",
    "    ax1 = plt.subplot(1,1,1)\n",
    "    x_labels_temp = [1950, 1955, 1960, 1965, 1970, 1975, 1980, 1985, 1990, 1995, 2000, 2005, 2010, 2015, 2021]\n",
    "    x_labels_official = []\n",
    "    for i in x_labels_temp:\n",
    "        if i <= year - 5:\n",
    "            x_labels_official.append(i)\n",
    "    if year not in x_labels_official:\n",
    "        x_labels_official.append(year)\n",
    "    y_labels = [0, 3, 6, 9, 12, 15, 18, 21, 24, 27, 30, 33, 36, 39, 42, 45, 48, 51, 54, 57, 60, 63, 66, 69, 72, 75, 78]\n",
    "    colors = {'0-9':'#000000', '10-19':'#3cb44b', '20-29':'#ffe119', '30-39':'#4363d8', '40-49':'#f58231',\n",
    "              '50-59':'#911eb4', '60-69':'#42d4f4', '70-79':'#aaffc3', '80+':'#fabed4'}\n",
    "    tmp = df_le_age.loc[(df_le_age['Entity'] == country) & (df_le_age['Year'] <= year), ['Year', 'AgeGrp', 'Life_exp_re']]\n",
    "    tmp_groups = tmp.groupby('AgeGrp')\n",
    "    for key, df_local in tmp_groups:\n",
    "        x = df_local.Year.tolist()\n",
    "        y = df_local.Life_exp_re.tolist()\n",
    "        ax1.plot(x, y, '.-', color=colors[key], label=key)\n",
    "    # set up plot\n",
    "    ax1.set_title(\"Số năm kỳ vọng còn lại, theo các nhóm tuổi khác nhau, tại \" + country)\n",
    "    ax1.set_xticks(x_labels_official)\n",
    "    ax1.set_yticks(y_labels)\n",
    "    ax1.spines['top'].set_visible(False)\n",
    "    ax1.spines['right'].set_visible(False)\n",
    "    y_ticks = ax1.get_yticks()\n",
    "    for y_tick in y_ticks:\n",
    "        ax1.axhline(y=y_tick, color='#E7FCFB', linestyle='--', zorder=-1)\n",
    "    plt.xlabel(\"Năm\")\n",
    "    plt.ylabel(\"Số năm kỳ vọng còn lại\")\n",
    "    plt.legend(loc = \"upper left\")\n",
    "    plt.show()"
   ]
  },
  {
   "cell_type": "code",
   "execution_count": 5,
   "id": "3060259c-531c-4a7f-a026-8ed4411ee6cc",
   "metadata": {},
   "outputs": [
    {
     "data": {
      "application/vnd.jupyter.widget-view+json": {
       "model_id": "a2f2ab952e434b32aed45520ee0769e2",
       "version_major": 2,
       "version_minor": 0
      },
      "text/plain": [
       "interactive(children=(SelectionSlider(description='Year', index=71, options=(1950, 1951, 1952, 1953, 1954, 195…"
      ]
     },
     "metadata": {},
     "output_type": "display_data"
    },
    {
     "data": {
      "text/plain": [
       "<function __main__.show_line_chart_age(year, country)>"
      ]
     },
     "metadata": {},
     "output_type": "display_data"
    }
   ],
   "source": [
    "# Create the animation widget\n",
    "animation5 = ipywidgets.interact(show_line_chart_age, \n",
    "                                 year=ipywidgets.SelectionSlider(value=2021, description='Year',   options=all_year_3), \n",
    "                                 country=ipywidgets.Combobox(value='World', options=all_text_3, description='Country:', ensure_option=True,disabled=False))\n",
    "animation5.interval = 0.01\n",
    "# Display the animation widget\n",
    "display(animation5)"
   ]
  },
  {
   "cell_type": "code",
   "execution_count": 6,
   "id": "4d18ab2d-70aa-4040-83f5-a2f432243f09",
   "metadata": {},
   "outputs": [],
   "source": [
    "all_year_6 = sorted(df_death.Year.unique())\n",
    "all_text_6 = ['World', 'Africa', 'Americas', 'Asia', 'Europe', 'Oceania']\n",
    "all_mode_2 = ['Relative', 'Total']\n",
    "all_age_groups_2 = ['0-4', '5-14', '15-49', '50-69', '70+', 'All']\n",
    "\n",
    "def show_stack_plot_death(year, text, mode, age_grp='All'):\n",
    "    # chọn màu cho hợp lý\n",
    "    cs = {'0-4':'#3cb44b', '5-14':'#ffe119', '15-49':'#4363d8', '50-69':'#f58231', '70+':'#aaffc3'}\n",
    "    x_labels_temp = [1990, 1995, 2000, 2005, 2010, 2015, 2020]\n",
    "    x_labels_official = []\n",
    "    if mode =='Total':\n",
    "        y_labels = [0, 10, 20, 30, 40, 50, 60]\n",
    "    else:\n",
    "        y_labels = [0, 20, 40, 60, 80, 100]\n",
    "    for i in x_labels_temp:\n",
    "        if i < year - 1 or (i == 1990):\n",
    "            x_labels_official.append(i)\n",
    "    if year not in x_labels_official:\n",
    "        x_labels_official.append(year)\n",
    "    small_grouped_df = df_death.groupby('Entity')\n",
    "    fig = plt.figure(figsize=(10, 6))\n",
    "    ax1 = plt.subplot(1,1,1)\n",
    "    arr1, arr2, arr3, arr4, arr5, y = [], [], [], [], [], []\n",
    "    for key, df_local in small_grouped_df:\n",
    "        if key == text:\n",
    "            tmp = df_local.loc[df_local['Year'] <= year, ['Year', '0-4', '5-14', '15-49', '50-69', '70+']]\n",
    "            arr1 = tmp['0-4'].tolist()\n",
    "            arr1 = list(np.array(arr1) / 1000000)\n",
    "            arr2 = tmp['5-14'].tolist()\n",
    "            arr2 = list(np.array(arr2) / 1000000)\n",
    "            arr3 = tmp['15-49'].tolist()\n",
    "            arr3 = list(np.array(arr3) / 1000000)\n",
    "            arr4 = tmp['50-69'].tolist()\n",
    "            arr4 = list(np.array(arr4) / 1000000)\n",
    "            arr5 = tmp['70+'].tolist()\n",
    "            arr5 = list(np.array(arr5) / 1000000)\n",
    "            y = tmp['Year'].tolist()\n",
    "    label = list(cs.keys())\n",
    "    color = list(cs.values())\n",
    "    if age_grp != 'All':\n",
    "        for i in range(len(label)):\n",
    "            if label[i] != age_grp:\n",
    "                label[i] = None\n",
    "                color[i] = '#EEEEEE'\n",
    "    if mode == 'Total':\n",
    "        ax1.stackplot(y, arr1, arr2, arr3, arr4, arr5, labels = label, colors = color)\n",
    "    else:\n",
    "        arr1 = np.array(arr1)\n",
    "        arr2 = np.array(arr2)\n",
    "        arr3 = np.array(arr3)\n",
    "        arr4 = np.array(arr4)\n",
    "        arr5 = np.array(arr5)\n",
    "        arrr = np.row_stack((arr1, arr2, arr3, arr4, arr5))\n",
    "        percent = arrr /  arrr.sum(axis=0).astype(float) * 100 \n",
    "        ax1.stackplot(y, percent, labels = label, colors = color)\n",
    "    # set up plot\n",
    "    ax1.set_title(\"Số lượng tử vong theo nhóm tuổi, từ 1990 đến \" + str(year))\n",
    "    ax1.set_xticks(x_labels_official)\n",
    "    ax1.set_yticks(y_labels)\n",
    "    ax1.spines['top'].set_visible(False)\n",
    "    ax1.spines['right'].set_visible(False)\n",
    "    y_ticks = ax1.get_yticks()\n",
    "    for y_tick in y_ticks:\n",
    "        ax1.axhline(y=y_tick, color='#E7FCFB', linestyle='--', zorder=-1)\n",
    "    plt.xlabel(\"Năm\")\n",
    "    if mode == 'Total':\n",
    "        plt.ylabel(\"Số lượng người tử vong (đv: triệu người)\")\n",
    "    else:\n",
    "        plt.ylabel(\"Số lượng người tử vong (tính theo phần trăm %)\")\n",
    "    plt.legend(loc = \"upper left\")\n",
    "    plt.show()"
   ]
  },
  {
   "cell_type": "code",
   "execution_count": 7,
   "id": "1022a9c0-e387-48ab-a898-40add2c39697",
   "metadata": {},
   "outputs": [
    {
     "data": {
      "application/vnd.jupyter.widget-view+json": {
       "model_id": "49aea363a8ea43ac80882a936c89b7e4",
       "version_major": 2,
       "version_minor": 0
      },
      "text/plain": [
       "interactive(children=(SelectionSlider(description='Year', index=29, options=(1990, 1991, 1992, 1993, 1994, 199…"
      ]
     },
     "metadata": {},
     "output_type": "display_data"
    },
    {
     "data": {
      "text/plain": [
       "<function __main__.show_stack_plot_death(year, text, mode, age_grp='All')>"
      ]
     },
     "metadata": {},
     "output_type": "display_data"
    }
   ],
   "source": [
    "# Create the animation widget\n",
    "animation8 = ipywidgets.interact(show_stack_plot_death, \n",
    "                                 year=ipywidgets.SelectionSlider(value=2019, description='Year', options=all_year_6),\n",
    "                                 text=ipywidgets.Combobox(value='World', options=all_text_6, description='What:', ensure_option=True,disabled=False),\n",
    "                                 mode=ipywidgets.Combobox(value='Total', options=all_mode_2, description='Mode:', ensure_option=True,disabled=False),\n",
    "                                 age_grp=ipywidgets.Combobox(value='All', options=all_age_groups_2, description='Age Group:', ensure_option=True,disabled=False))\n",
    "# Display the animation widget\n",
    "display(animation8)"
   ]
  },
  {
   "cell_type": "code",
   "execution_count": 8,
   "id": "c7c572e4-4b27-41ff-ad83-6a9329311166",
   "metadata": {},
   "outputs": [],
   "source": [
    "df_sur_female = pd.read_csv('full-data/survival_female.csv')\n",
    "df_sur_male = pd.read_csv('full-data/survival_male.csv')"
   ]
  },
  {
   "cell_type": "code",
   "execution_count": 9,
   "id": "ce17b419-55c2-4e28-9408-177087cef857",
   "metadata": {},
   "outputs": [],
   "source": [
    "df_survival = pd.concat([df_sur_female, df_sur_male]).drop(['Unnamed: 8'], axis=1).rename(columns={'Exact age (years)': 'Age'})"
   ]
  },
  {
   "cell_type": "code",
   "execution_count": 10,
   "id": "8075eb38-d1fc-4b8b-9835-0524a322588e",
   "metadata": {},
   "outputs": [],
   "source": [
    "age_list = df_survival['Age'].tolist()"
   ]
  },
  {
   "cell_type": "code",
   "execution_count": 11,
   "id": "65729b7f-8141-4af6-a65b-35a5c367ee6c",
   "metadata": {},
   "outputs": [],
   "source": [
    "df_survival = df_survival.groupby(['Age']).agg('mean')/1000"
   ]
  },
  {
   "cell_type": "code",
   "execution_count": 12,
   "id": "7787f3f2-1e94-482f-b8bf-48df49265c27",
   "metadata": {},
   "outputs": [
    {
     "data": {
      "text/html": [
       "<div>\n",
       "<style scoped>\n",
       "    .dataframe tbody tr th:only-of-type {\n",
       "        vertical-align: middle;\n",
       "    }\n",
       "\n",
       "    .dataframe tbody tr th {\n",
       "        vertical-align: top;\n",
       "    }\n",
       "\n",
       "    .dataframe thead th {\n",
       "        text-align: right;\n",
       "    }\n",
       "</style>\n",
       "<table border=\"1\" class=\"dataframe\">\n",
       "  <thead>\n",
       "    <tr style=\"text-align: right;\">\n",
       "      <th></th>\n",
       "      <th>1841</th>\n",
       "      <th>1900</th>\n",
       "      <th>1925</th>\n",
       "      <th>1950</th>\n",
       "      <th>1980</th>\n",
       "      <th>2000</th>\n",
       "      <th>2020</th>\n",
       "    </tr>\n",
       "    <tr>\n",
       "      <th>Age</th>\n",
       "      <th></th>\n",
       "      <th></th>\n",
       "      <th></th>\n",
       "      <th></th>\n",
       "      <th></th>\n",
       "      <th></th>\n",
       "      <th></th>\n",
       "    </tr>\n",
       "  </thead>\n",
       "  <tbody>\n",
       "    <tr>\n",
       "      <th>0</th>\n",
       "      <td>100.000000</td>\n",
       "      <td>100.000000</td>\n",
       "      <td>100.000000</td>\n",
       "      <td>100.000000</td>\n",
       "      <td>100.000000</td>\n",
       "      <td>100.000000</td>\n",
       "      <td>100.000000</td>\n",
       "    </tr>\n",
       "    <tr>\n",
       "      <th>1</th>\n",
       "      <td>85.003600</td>\n",
       "      <td>84.608355</td>\n",
       "      <td>92.603480</td>\n",
       "      <td>97.025035</td>\n",
       "      <td>98.795300</td>\n",
       "      <td>99.441225</td>\n",
       "      <td>99.616835</td>\n",
       "    </tr>\n",
       "    <tr>\n",
       "      <th>2</th>\n",
       "      <td>79.798010</td>\n",
       "      <td>80.306425</td>\n",
       "      <td>90.538495</td>\n",
       "      <td>96.655630</td>\n",
       "      <td>98.715615</td>\n",
       "      <td>99.403295</td>\n",
       "      <td>99.598215</td>\n",
       "    </tr>\n",
       "    <tr>\n",
       "      <th>3</th>\n",
       "      <td>77.103220</td>\n",
       "      <td>78.665785</td>\n",
       "      <td>89.630160</td>\n",
       "      <td>96.497540</td>\n",
       "      <td>98.665010</td>\n",
       "      <td>99.381410</td>\n",
       "      <td>99.586545</td>\n",
       "    </tr>\n",
       "    <tr>\n",
       "      <th>4</th>\n",
       "      <td>75.338710</td>\n",
       "      <td>77.615705</td>\n",
       "      <td>89.057240</td>\n",
       "      <td>96.389690</td>\n",
       "      <td>98.630365</td>\n",
       "      <td>99.361980</td>\n",
       "      <td>99.577110</td>\n",
       "    </tr>\n",
       "    <tr>\n",
       "      <th>...</th>\n",
       "      <td>...</td>\n",
       "      <td>...</td>\n",
       "      <td>...</td>\n",
       "      <td>...</td>\n",
       "      <td>...</td>\n",
       "      <td>...</td>\n",
       "      <td>...</td>\n",
       "    </tr>\n",
       "    <tr>\n",
       "      <th>106</th>\n",
       "      <td>0.000335</td>\n",
       "      <td>0.000125</td>\n",
       "      <td>0.000335</td>\n",
       "      <td>0.002190</td>\n",
       "      <td>0.023050</td>\n",
       "      <td>0.043345</td>\n",
       "      <td>0.060260</td>\n",
       "    </tr>\n",
       "    <tr>\n",
       "      <th>107</th>\n",
       "      <td>0.000160</td>\n",
       "      <td>0.000050</td>\n",
       "      <td>0.000170</td>\n",
       "      <td>0.001095</td>\n",
       "      <td>0.013985</td>\n",
       "      <td>0.022605</td>\n",
       "      <td>0.032755</td>\n",
       "    </tr>\n",
       "    <tr>\n",
       "      <th>108</th>\n",
       "      <td>0.000075</td>\n",
       "      <td>0.000025</td>\n",
       "      <td>0.000080</td>\n",
       "      <td>0.000545</td>\n",
       "      <td>0.007575</td>\n",
       "      <td>0.011475</td>\n",
       "      <td>0.017135</td>\n",
       "    </tr>\n",
       "    <tr>\n",
       "      <th>109</th>\n",
       "      <td>0.000030</td>\n",
       "      <td>0.000005</td>\n",
       "      <td>0.000045</td>\n",
       "      <td>0.000275</td>\n",
       "      <td>0.005310</td>\n",
       "      <td>0.004360</td>\n",
       "      <td>0.007275</td>\n",
       "    </tr>\n",
       "    <tr>\n",
       "      <th>110</th>\n",
       "      <td>0.000015</td>\n",
       "      <td>0.000005</td>\n",
       "      <td>0.000020</td>\n",
       "      <td>0.000135</td>\n",
       "      <td>0.004165</td>\n",
       "      <td>0.000595</td>\n",
       "      <td>0.003845</td>\n",
       "    </tr>\n",
       "  </tbody>\n",
       "</table>\n",
       "<p>111 rows × 7 columns</p>\n",
       "</div>"
      ],
      "text/plain": [
       "           1841        1900        1925        1950        1980        2000   \n",
       "Age                                                                           \n",
       "0    100.000000  100.000000  100.000000  100.000000  100.000000  100.000000  \\\n",
       "1     85.003600   84.608355   92.603480   97.025035   98.795300   99.441225   \n",
       "2     79.798010   80.306425   90.538495   96.655630   98.715615   99.403295   \n",
       "3     77.103220   78.665785   89.630160   96.497540   98.665010   99.381410   \n",
       "4     75.338710   77.615705   89.057240   96.389690   98.630365   99.361980   \n",
       "..          ...         ...         ...         ...         ...         ...   \n",
       "106    0.000335    0.000125    0.000335    0.002190    0.023050    0.043345   \n",
       "107    0.000160    0.000050    0.000170    0.001095    0.013985    0.022605   \n",
       "108    0.000075    0.000025    0.000080    0.000545    0.007575    0.011475   \n",
       "109    0.000030    0.000005    0.000045    0.000275    0.005310    0.004360   \n",
       "110    0.000015    0.000005    0.000020    0.000135    0.004165    0.000595   \n",
       "\n",
       "           2020  \n",
       "Age              \n",
       "0    100.000000  \n",
       "1     99.616835  \n",
       "2     99.598215  \n",
       "3     99.586545  \n",
       "4     99.577110  \n",
       "..          ...  \n",
       "106    0.060260  \n",
       "107    0.032755  \n",
       "108    0.017135  \n",
       "109    0.007275  \n",
       "110    0.003845  \n",
       "\n",
       "[111 rows x 7 columns]"
      ]
     },
     "execution_count": 12,
     "metadata": {},
     "output_type": "execute_result"
    }
   ],
   "source": [
    "df_survival"
   ]
  },
  {
   "cell_type": "code",
   "execution_count": 13,
   "id": "9f66045d-dcb9-4f2a-968f-4eded4a0f828",
   "metadata": {},
   "outputs": [],
   "source": [
    "list_1841 = df_survival['1841'].tolist()\n",
    "list_1900 = df_survival['1900'].tolist()\n",
    "list_1925 = df_survival['1925'].tolist()\n",
    "list_1950 = df_survival['1950'].tolist()\n",
    "list_1980 = df_survival['1980'].tolist()\n",
    "list_2000 = df_survival['2000'].tolist()\n",
    "list_2020 = df_survival['2020'].tolist()"
   ]
  },
  {
   "cell_type": "code",
   "execution_count": 14,
   "id": "853b4726-a8e0-445a-95be-8c36a79964cf",
   "metadata": {},
   "outputs": [
    {
     "data": {
      "image/png": "[encoded data removed]",
      "text/plain": [
       "<Figure size 1152x648 with 1 Axes>"
      ]
     },
     "metadata": {
      "needs_background": "light"
     },
     "output_type": "display_data"
    }
   ],
   "source": [
    "plt.figure(figsize=(16,9))\n",
    "\n",
    "plt.plot(np.arange(0, 111, step=1), list_1841, label = '1841')\n",
    "plt.plot(np.arange(0, 111, step=1), list_1900, label = '1900')\n",
    "plt.plot(np.arange(0, 111, step=1), list_1925, label = '1925')\n",
    "plt.plot(np.arange(0, 111, step=1), list_1950, label = '1950')\n",
    "plt.plot(np.arange(0, 111, step=1), list_1980, label = '1980')\n",
    "plt.plot(np.arange(0, 111, step=1), list_2000, label = '2000')\n",
    "plt.plot(np.arange(0, 111, step=1), list_2020, label = '2020')\n",
    "\n",
    "plt.ylabel(\"Tỉ lệ dân số sống đến một độ tuổi cho trước\")\n",
    "plt.xlabel(\"Độ tuổi\")\n",
    "plt.legend()\n",
    "plt.title('Tỉ lệ dân số sống đến một độ tuổi nhất định')\n",
    "plt.show()"
   ]
  },
  {
   "cell_type": "code",
   "execution_count": 15,
   "id": "0869c9a7-0ceb-4a06-a15e-ee92e411cc9a",
   "metadata": {},
   "outputs": [],
   "source": [
    "df_age_15 = pd.read_csv('full-data/life-expectancy-at-age-15.csv')"
   ]
  },
  {
   "cell_type": "code",
   "execution_count": 16,
   "id": "a591c617-8c8f-42a4-97f8-d2ee69a35823",
   "metadata": {},
   "outputs": [],
   "source": [
    "df_age_15 = df_age_15.rename(columns={'Life expectancy at 15': 'Expectancy'})"
   ]
  },
  {
   "cell_type": "code",
   "execution_count": 17,
   "id": "ad9b139e-e6c5-45a3-8c3c-d2656caea24c",
   "metadata": {},
   "outputs": [],
   "source": [
    "country_list_tmp = ['Italy', 'Spain', 'Sweden', 'United Kingdom', 'China']\n",
    "df_age_15 = df_age_15[df_age_15['Entity'].isin(country_list_tmp)]"
   ]
  },
  {
   "cell_type": "code",
   "execution_count": 18,
   "id": "b1ed6c07-4001-41be-a87e-50a5b521cd6b",
   "metadata": {},
   "outputs": [],
   "source": [
    "all_year_15 = sorted(df_age_15.Year.unique())\n",
    "all_text_15 = ['All', 'Italy', 'Spain', 'Sweden', 'United Kingdom', 'China']"
   ]
  },
  {
   "cell_type": "code",
   "execution_count": 19,
   "id": "40a827ee-25d2-4a1e-a28c-a4eeabfe338b",
   "metadata": {},
   "outputs": [],
   "source": [
    "def show_line_age_15(year, text):\n",
    "    faded_color = '#EEEEEE'\n",
    "    small_grouped_df = df_age_15.groupby('Entity')\n",
    "    fig = plt.figure(figsize=(12, 5))\n",
    "    ax1 = plt.subplot(1,1,1)\n",
    "    x_labels_temp = [1751, 1800, 1850, 1900, 1950, 2000, 2021]\n",
    "    x_labels_official = []\n",
    "    for i in x_labels_temp:\n",
    "        if i <= year - 20:\n",
    "            x_labels_official.append(i)\n",
    "    if year not in x_labels_official:\n",
    "        x_labels_official.append(year)\n",
    "    y_labels = [50, 60, 70, 80, 90]\n",
    "    colors = {'Italy':'#D1AFE4', 'Spain':'#2587F0', 'Sweden':'#21DA61', 'United Kingdom':'#E9C213', 'China':'#F791C1'}\n",
    "    if text != 'All':\n",
    "        for i in colors.keys():\n",
    "            if i != text:\n",
    "                colors[i] = faded_color\n",
    "    x_save, y_save = -1, -1\n",
    "    save_key = None\n",
    "    for key, df_local in small_grouped_df:\n",
    "        tmp = df_local.loc[df_local['Year'] <= year, ['Year', 'Expectancy']]\n",
    "        x = tmp.Year.values\n",
    "        y = tmp.Expectancy.values\n",
    "        if text == 'All':\n",
    "            ax1.plot(x, y, '.-', color=colors[key], label=key)\n",
    "        else:\n",
    "            if key == text:\n",
    "                save_key = key\n",
    "                x_save = x\n",
    "                y_save = y\n",
    "            else:\n",
    "                ax1.plot(x, y, '.-', color=colors[key])\n",
    "    if save_key is not None:\n",
    "        ax1.plot(x_save, y_save, '.-', color=colors[save_key], label=save_key)\n",
    "    # set up plot\n",
    "    ax1.set_title(\"Life expectancy ở độ tuổi 15 tại Châu Âu, từ năm 1751 đến năm \" + str(year))\n",
    "    ax1.set_xticks(x_labels_official)\n",
    "    ax1.set_yticks(y_labels)\n",
    "    ax1.spines['top'].set_visible(False)\n",
    "    ax1.spines['right'].set_visible(False)\n",
    "    y_ticks = ax1.get_yticks()\n",
    "    for y_tick in y_ticks:\n",
    "        ax1.axhline(y=y_tick, color='#E7FCFB', linestyle='--', zorder=-1)\n",
    "    plt.xlabel(\"Năm\")\n",
    "    plt.ylabel(\"Tuổi\")\n",
    "    plt.legend(loc = \"upper left\")\n",
    "    plt.show()"
   ]
  },
  {
   "cell_type": "code",
   "execution_count": 20,
   "id": "a5cd0b07-b1f8-46dc-b600-971ae7151852",
   "metadata": {},
   "outputs": [
    {
     "data": {
      "application/vnd.jupyter.widget-view+json": {
       "model_id": "3ec094e6507b4239a5be2a385740eeda",
       "version_major": 2,
       "version_minor": 0
      },
      "text/plain": [
       "interactive(children=(SelectionSlider(description='Year', options=(1751, 1752, 1753, 1754, 1755, 1756, 1757, 1…"
      ]
     },
     "metadata": {},
     "output_type": "display_data"
    },
    {
     "data": {
      "text/plain": [
       "<function __main__.show_line_age_15(year, text)>"
      ]
     },
     "metadata": {},
     "output_type": "display_data"
    }
   ],
   "source": [
    "# Create the animation widget\n",
    "animation15 = ipywidgets.interact(show_line_age_15, \n",
    "                                 year=ipywidgets.SelectionSlider(description='Year',   options=all_year_15), \n",
    "                                 text=ipywidgets.Combobox(value='All', options=all_text_15, description='Mode:', ensure_option=True,disabled=False))\n",
    "# Set the interval time between frames to 100 milliseconds\n",
    "animation15.interval = 0.01\n",
    "# Display the animation widget\n",
    "display(animation15)"
   ]
  },
  {
   "cell_type": "code",
   "execution_count": null,
   "id": "0d846d33-c0f2-44a0-9181-f79c100232a2",
   "metadata": {},
   "outputs": [],
   "source": []
  }
 ],
 "metadata": {
  "kernelspec": {
   "display_name": "conda_env",
   "language": "python",
   "name": "conda_env"
  },
  "language_info": {
   "codemirror_mode": {
    "name": "ipython",
    "version": 3
   },
   "file_extension": ".py",
   "mimetype": "text/x-python",
   "name": "python",
   "nbconvert_exporter": "python",
   "pygments_lexer": "ipython3",
   "version": "3.10.2"
  }
 },
 "nbformat": 4,
 "nbformat_minor": 5
}
